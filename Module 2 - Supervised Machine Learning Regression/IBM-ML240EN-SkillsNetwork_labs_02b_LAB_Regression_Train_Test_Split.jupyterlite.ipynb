{
  "metadata": {
    "language_info": {
      "codemirror_mode": {
        "name": "python",
        "version": 3
      },
      "file_extension": ".py",
      "mimetype": "text/x-python",
      "name": "python",
      "nbconvert_exporter": "python",
      "pygments_lexer": "ipython3",
      "version": "3.8"
    },
    "kernelspec": {
      "name": "python",
      "display_name": "Python (Pyodide)",
      "language": "python"
    }
  },
  "nbformat_minor": 4,
  "nbformat": 4,
  "cells": [
    {
      "cell_type": "markdown",
      "source": "# Machine Learning Foundation\n\n## Course 2, Part b: Regression Setup, Train-test Split LAB \n",
      "metadata": {}
    },
    {
      "cell_type": "markdown",
      "source": "## Introduction\n\nWe will be working with a data set based on [housing prices in Ames, Iowa](https://www.kaggle.com/c/house-prices-advanced-regression-techniques?utm_medium=Exinfluencer&utm_source=Exinfluencer&utm_content=000026UJ&utm_term=10006555&utm_id=NA-SkillsNetwork-Channel-SkillsNetworkCoursesIBMML240ENSkillsNetwork783-2023-01-01). It was compiled for educational use to be a modernized and expanded alternative to the well-known Boston Housing dataset. This version of the data set has had some missing values filled for convenience.\n\nThere are an extensive number of features, so they've been described in the table below.\n\n### Predictor\n\n* SalePrice: The property's sale price in dollars. \n\n### Features\n\n* MoSold: Month Sold\n* YrSold: Year Sold   \n* SaleType: Type of sale\n* SaleCondition: Condition of sale\n* MSSubClass: The building class\n* MSZoning: The general zoning classification\n* ...\n",
      "metadata": {
        "run_control": {
          "marked": true
        }
      }
    },
    {
      "cell_type": "code",
      "source": "# Surpress warnings:\ndef warn(*args, **kwargs):\n    pass\nimport warnings\nwarnings.warn = warn",
      "metadata": {
        "ExecuteTime": {
          "end_time": "2017-03-09T17:24:40.724060Z",
          "start_time": "2017-03-09T12:24:40.718739-05:00"
        },
        "run_control": {
          "marked": true
        },
        "trusted": true
      },
      "execution_count": null,
      "outputs": []
    },
    {
      "cell_type": "code",
      "source": "import piplite\nawait piplite.install(['tqdm', 'seaborn', 'skillsnetwork', 'pandas', 'numpy', 'scikit-learn'])",
      "metadata": {
        "trusted": true
      },
      "execution_count": null,
      "outputs": []
    },
    {
      "cell_type": "markdown",
      "source": "## Question 1\n\n* Import the data using Pandas and examine the shape. There are 79 feature columns plus the predictor, the sale price (`SalePrice`). \n* There are three different types: integers (`int64`), floats (`float64`), and strings (`object`, categoricals). Examine how many there are of each data type. \n",
      "metadata": {
        "run_control": {
          "marked": true
        }
      }
    },
    {
      "cell_type": "code",
      "source": "import pandas as pd\nimport numpy as np\nimport skillsnetwork \n\n# Import the data using the file path\nURL = 'https://cf-courses-data.s3.us.cloud-object-storage.appdomain.cloud/IBM-ML240EN-SkillsNetwork/labs/data/Ames_Housing_Sales.csv'\nawait skillsnetwork.download_dataset(URL)\n\ndata = pd.read_csv('Ames_Housing_Sales.csv')\ndata.head()\n\nprint(data.shape)",
      "metadata": {
        "collapsed": false,
        "jupyter": {
          "outputs_hidden": false
        },
        "run_control": {
          "marked": true
        },
        "trusted": true
      },
      "execution_count": null,
      "outputs": []
    },
    {
      "cell_type": "code",
      "source": "data.dtypes.value_counts()",
      "metadata": {
        "collapsed": false,
        "jupyter": {
          "outputs_hidden": false
        },
        "run_control": {
          "marked": true
        },
        "trusted": true
      },
      "execution_count": null,
      "outputs": []
    },
    {
      "cell_type": "markdown",
      "source": "## Question 2\n\nA significant challenge, particularly when dealing with data that have many columns, is ensuring each column gets encoded correctly. \n\nThis is particularly true with data columns that are ordered categoricals (ordinals) vs unordered categoricals. Unordered categoricals should be one-hot encoded, however this can significantly increase the number of features and creates features that are highly correlated with each other.\n\nDetermine how many total features would be present, relative to what currently exists, if all string (object) features are one-hot encoded. Recall that the total number of one-hot encoded columns is `n-1`, where `n` is the number of categories.\n",
      "metadata": {
        "run_control": {
          "marked": true
        }
      }
    },
    {
      "cell_type": "code",
      "source": "# Select the object (string) columns\nmask = data.dtypes == np.object\ncategorical_cols = data.columns[mask]",
      "metadata": {
        "collapsed": false,
        "jupyter": {
          "outputs_hidden": false
        },
        "run_control": {
          "marked": true
        },
        "trusted": true
      },
      "execution_count": null,
      "outputs": []
    },
    {
      "cell_type": "code",
      "source": "# Determine how many extra columns would be created\nnum_ohc_cols = (data[categorical_cols]\n                .apply(lambda x: x.nunique())\n                .sort_values(ascending=False))\n\n\n# No need to encode if there is only one value\nsmall_num_ohc_cols = num_ohc_cols.loc[num_ohc_cols>1]\n\n# Number of one-hot columns is one less than the number of categories\nsmall_num_ohc_cols -= 1\n\n# This is 215 columns, assuming the original ones are dropped. \n# This is quite a few extra columns!\nsmall_num_ohc_cols.sum()",
      "metadata": {
        "collapsed": false,
        "jupyter": {
          "outputs_hidden": false
        },
        "run_control": {
          "marked": true
        },
        "trusted": true
      },
      "execution_count": null,
      "outputs": []
    },
    {
      "cell_type": "markdown",
      "source": "## Question 3\n\nLet's create a new data set where all of the above categorical features will be one-hot encoded. We can fit this data and see how it affects the results.\n\n* Used the dataframe `.copy()` method to create a completely separate copy of the dataframe for one-hot encoding\n* On this new dataframe, one-hot encode each of the appropriate columns and add it back to the dataframe. Be sure to drop the original column.\n* For the data that are not one-hot encoded, drop the columns that are string categoricals.\n\nFor the first step, numerically encoding the string categoricals, either Scikit-learn;s `LabelEncoder` or `DictVectorizer` can be used. However, the former is probably easier since it doesn't require specifying a numerical value for each category, and we are going to one-hot encode all of the numerical values anyway. (Can you think of a time when `DictVectorizer` might be preferred?)\n",
      "metadata": {
        "run_control": {
          "marked": true
        }
      }
    },
    {
      "cell_type": "code",
      "source": "from sklearn.preprocessing import OneHotEncoder, LabelEncoder\n\n# Copy of the data\ndata_ohc = data.copy()\n\n# The encoders\nle = LabelEncoder()\nohc = OneHotEncoder()\n\nfor col in num_ohc_cols.index:\n    \n    # Integer encode the string categories\n    dat = le.fit_transform(data_ohc[col]).astype(np.int)\n    \n    # Remove the original column from the dataframe\n    data_ohc = data_ohc.drop(col, axis=1)\n\n    # One hot encode the data--this returns a sparse array\n    new_dat = ohc.fit_transform(dat.reshape(-1,1))\n\n    # Create unique column names\n    n_cols = new_dat.shape[1]\n    col_names = ['_'.join([col, str(x)]) for x in range(n_cols)]\n\n    # Create the new dataframe\n    new_df = pd.DataFrame(new_dat.toarray(), \n                          index=data_ohc.index, \n                          columns=col_names)\n\n    # Append the new data to the dataframe\n    data_ohc = pd.concat([data_ohc, new_df], axis=1)",
      "metadata": {
        "collapsed": false,
        "jupyter": {
          "outputs_hidden": false
        },
        "run_control": {
          "marked": true
        },
        "trusted": true
      },
      "execution_count": null,
      "outputs": []
    },
    {
      "cell_type": "code",
      "source": "# Column difference is as calculated above\ndata_ohc.shape[1] - data.shape[1]",
      "metadata": {
        "collapsed": false,
        "jupyter": {
          "outputs_hidden": false
        },
        "run_control": {
          "marked": true
        },
        "trusted": true
      },
      "execution_count": null,
      "outputs": []
    },
    {
      "cell_type": "code",
      "source": "print(data.shape[1])\n\n# Remove the string columns from the dataframe\ndata = data.drop(num_ohc_cols.index, axis=1)\n\nprint(data.shape[1])",
      "metadata": {
        "collapsed": false,
        "jupyter": {
          "outputs_hidden": false
        },
        "run_control": {
          "marked": true
        },
        "trusted": true
      },
      "execution_count": null,
      "outputs": []
    },
    {
      "cell_type": "markdown",
      "source": "## Question 4\n\n* Create train and test splits of both data sets. To ensure the data gets split the same way, use the same `random_state` in each of the two splits.\n* For each data set, fit a basic linear regression model on the training data. \n* Calculate the mean squared error on both the train and test sets for the respective models. Which model produces smaller error on the test data and why?\n",
      "metadata": {
        "run_control": {
          "marked": true
        }
      }
    },
    {
      "cell_type": "code",
      "source": "from sklearn.model_selection import train_test_split\n\ny_col = 'SalePrice'\n\n# Split the data that is not one-hot encoded\nfeature_cols = [x for x in data.columns if x != y_col]\nX_data = data[feature_cols]\ny_data = data[y_col]\n\nX_train, X_test, y_train, y_test = train_test_split(X_data, y_data, \n                                                    test_size=0.3, random_state=42)\n# Split the data that is one-hot encoded\nfeature_cols = [x for x in data_ohc.columns if x != y_col]\nX_data_ohc = data_ohc[feature_cols]\ny_data_ohc = data_ohc[y_col]\n\nX_train_ohc, X_test_ohc, y_train_ohc, y_test_ohc = train_test_split(X_data_ohc, y_data_ohc, \n                                                    test_size=0.3, random_state=42)",
      "metadata": {
        "collapsed": false,
        "jupyter": {
          "outputs_hidden": false
        },
        "run_control": {
          "marked": true
        },
        "trusted": true
      },
      "execution_count": null,
      "outputs": []
    },
    {
      "cell_type": "code",
      "source": "# Compare the indices to ensure they are identical\n(X_train_ohc.index == X_train.index).all()",
      "metadata": {
        "collapsed": false,
        "jupyter": {
          "outputs_hidden": false
        },
        "run_control": {
          "marked": true
        },
        "trusted": true
      },
      "execution_count": null,
      "outputs": []
    },
    {
      "cell_type": "code",
      "source": "X_train",
      "metadata": {
        "trusted": true
      },
      "execution_count": null,
      "outputs": []
    },
    {
      "cell_type": "code",
      "source": "from sklearn.linear_model import LinearRegression\nfrom sklearn.metrics import mean_squared_error\n\nLR = LinearRegression()\n\n# Storage for error values\nerror_df = list()\n\n# Data that have not been one-hot encoded\nLR = LR.fit(X_train, y_train)\ny_train_pred = LR.predict(X_train)\ny_test_pred = LR.predict(X_test)\n\nerror_df.append(pd.Series({'train': mean_squared_error(y_train, y_train_pred),\n                           'test' : mean_squared_error(y_test,  y_test_pred)},\n                           name='no enc'))\n\n# Data that have been one-hot encoded\nLR = LR.fit(X_train_ohc, y_train_ohc)\ny_train_ohc_pred = LR.predict(X_train_ohc)\ny_test_ohc_pred = LR.predict(X_test_ohc)\n\nerror_df.append(pd.Series({'train': mean_squared_error(y_train_ohc, y_train_ohc_pred),\n                           'test' : mean_squared_error(y_test_ohc,  y_test_ohc_pred)},\n                          name='one-hot enc'))\n\n# Assemble the results\nerror_df = pd.concat(error_df, axis=1)\nerror_df",
      "metadata": {
        "collapsed": false,
        "jupyter": {
          "outputs_hidden": false
        },
        "run_control": {
          "marked": true
        },
        "trusted": true
      },
      "execution_count": null,
      "outputs": []
    },
    {
      "cell_type": "markdown",
      "source": "Note that the error values on the one-hot encoded data are very different for the train and test data. In particular, the errors on the test data are much higher. Based on the lecture, this is because the one-hot encoded model is overfitting the data. We will learn how to deal with issues like this in the next lesson.\n",
      "metadata": {
        "run_control": {
          "marked": true
        }
      }
    },
    {
      "cell_type": "markdown",
      "source": "## Question 5\n\nFor each of the data sets (one-hot encoded and not encoded):\n\n* Scale the all the non-hot encoded values using one of the following: `StandardScaler`, `MinMaxScaler`, `MaxAbsScaler`.\n* Compare the error calculated on the test sets\n\nBe sure to calculate the skew (to decide if a transformation should be done) and fit the scaler on *ONLY* the training data, but then apply it to both the train and test data identically.\n",
      "metadata": {
        "run_control": {
          "marked": true
        }
      }
    },
    {
      "cell_type": "code",
      "source": "# Mute the setting wtih a copy warnings\npd.options.mode.chained_assignment = None",
      "metadata": {
        "trusted": true
      },
      "execution_count": null,
      "outputs": []
    },
    {
      "cell_type": "code",
      "source": "from sklearn.preprocessing import StandardScaler, MinMaxScaler, MaxAbsScaler\n\n\nscalers = {'standard': StandardScaler(),\n           'minmax': MinMaxScaler(),\n           'maxabs': MaxAbsScaler()}\n\ntraining_test_sets = {\n    'not_encoded': (X_train, y_train, X_test, y_test),\n    'one_hot_encoded': (X_train_ohc, y_train_ohc, X_test_ohc, y_test_ohc)}\n\n\n# Get the list of float columns, and the float data\n# so that we don't scale something we already scaled. \n# We're supposed to scale the original data each time\nmask = X_train.dtypes == np.float\nfloat_columns = X_train.columns[mask]\n\n# initialize model\nLR = LinearRegression()\n\n# iterate over all possible combinations and get the errors\nerrors = {}\nfor encoding_label, (_X_train, _y_train, _X_test, _y_test) in training_test_sets.items():\n    for scaler_label, scaler in scalers.items():\n        trainingset = _X_train.copy()  # copy because we dont want to scale this more than once.\n        testset = _X_test.copy()\n        trainingset[float_columns] = scaler.fit_transform(trainingset[float_columns])\n        testset[float_columns] = scaler.transform(testset[float_columns])\n        LR.fit(trainingset, _y_train)\n        predictions = LR.predict(testset)\n        key = encoding_label + ' - ' + scaler_label + 'scaling'\n        errors[key] = mean_squared_error(_y_test, predictions)\n\nerrors = pd.Series(errors)\nprint(errors.to_string())\nprint('-' * 80)\nfor key, error_val in errors.items():\n    print(key, error_val)",
      "metadata": {
        "collapsed": false,
        "jupyter": {
          "outputs_hidden": false
        },
        "trusted": true
      },
      "execution_count": null,
      "outputs": []
    },
    {
      "cell_type": "markdown",
      "source": "## Question 6\n\nPlot predictions vs actual for one of the models.\n",
      "metadata": {
        "run_control": {
          "marked": true
        }
      }
    },
    {
      "cell_type": "code",
      "source": "import matplotlib.pyplot as plt\nimport seaborn as sns\n%matplotlib inline\n\n\nsns.set_context('talk')\nsns.set_style('ticks')\nsns.set_palette('dark')\n\nax = plt.axes()\n# we are going to use y_test, y_test_pred\nax.scatter(y_test, y_test_pred, alpha=.5)\n\nax.set(xlabel='Ground truth', \n       ylabel='Predictions',\n       title='Ames, Iowa House Price Predictions vs Truth, using Linear Regression');",
      "metadata": {
        "collapsed": false,
        "jupyter": {
          "outputs_hidden": false
        },
        "run_control": {
          "marked": true
        },
        "trusted": true
      },
      "execution_count": null,
      "outputs": []
    },
    {
      "cell_type": "markdown",
      "source": "---\n### Machine Learning Foundation (C) 2020 IBM Corporation\n",
      "metadata": {}
    }
  ]
}